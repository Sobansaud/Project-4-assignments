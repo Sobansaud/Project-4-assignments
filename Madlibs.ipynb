{
  "nbformat": 4,
  "nbformat_minor": 0,
  "metadata": {
    "colab": {
      "provenance": [],
      "authorship_tag": "ABX9TyOf5ELvZeaQsFZDlG5VPjYv",
      "include_colab_link": true
    },
    "kernelspec": {
      "name": "python3",
      "display_name": "Python 3"
    },
    "language_info": {
      "name": "python"
    }
  },
  "cells": [
    {
      "cell_type": "markdown",
      "metadata": {
        "id": "view-in-github",
        "colab_type": "text"
      },
      "source": [
        "<a href=\"https://colab.research.google.com/github/Sobansaud/Project-4-assignments/blob/main/Madlibs.ipynb\" target=\"_parent\"><img src=\"https://colab.research.google.com/assets/colab-badge.svg\" alt=\"Open In Colab\"/></a>"
      ]
    },
    {
      "cell_type": "code",
      "execution_count": 2,
      "metadata": {
        "colab": {
          "base_uri": "https://localhost:8080/"
        },
        "id": "zcyK8hqrfmxL",
        "outputId": "a9e1cf11-3c97-498e-a0cf-07ca3851794c"
      },
      "outputs": [
        {
          "output_type": "stream",
          "name": "stdout",
          "text": [
            "Enter a adjective : scary\n",
            "Enter a noun : chicken\n",
            "Enter a verb : dance\n",
            "Enter a place : pakistan\n",
            "Yours Madlib story is here!\n",
            "\n",
            "Once upon a time, there was a scary chicken who loved to dance.\n",
            "Every day, it would go to the pakistan to practice its danceing skills.\n",
            "Everyone in the town said, \"What a scary chicken!\n",
            "\n"
          ]
        }
      ],
      "source": [
        "adjective = input(\"Enter a adjective : \")\n",
        "noun = input(\"Enter a noun : \")\n",
        "verb = input(\"Enter a verb : \")\n",
        "place = input(\"Enter a place : \")\n",
        "\n",
        "full_story = f'''\n",
        "Once upon a time, there was a {adjective} {noun} who loved to {verb}.\n",
        "Every day, it would go to the {place} to practice its {verb}ing skills.\n",
        "Everyone in the town said, \"What a {adjective} {noun}!\n",
        "'''\n",
        "print(\"Yours Madlib story is here!\")\n",
        "print(full_story)"
      ]
    }
  ]
}